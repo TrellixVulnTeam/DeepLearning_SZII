{
 "cells": [
  {
   "cell_type": "markdown",
   "metadata": {},
   "source": [
    "# Homework 1: Differentiation"
   ]
  },
  {
   "cell_type": "markdown",
   "metadata": {},
   "source": [
    "Since it easy to google every task please please please try to undestand what's going on. The \"just answer\" thing will be not counted, make sure to present derivation of your solution. It is absolutely OK if you found an answer on web then just exercise in $\\LaTeX$ copying it into here. A good way to derive solutions for these tasks is to derive it for single elements and then generalize to the resulting matrix/vector."
   ]
  },
  {
   "cell_type": "markdown",
   "metadata": {},
   "source": [
    "Useful links: \n",
    "[1](http://www.machinelearning.ru/wiki/images/2/2a/Matrix-Gauss.pdf)\n",
    "[2](http://www.atmos.washington.edu/~dennis/MatrixCalculus.pdf)\n",
    "[3](http://cal.cs.illinois.edu/~johannes/research/matrix%20calculus.pdf)"
   ]
  },
  {
   "cell_type": "markdown",
   "metadata": {},
   "source": [
    "## ex. 1"
   ]
  },
  {
   "cell_type": "markdown",
   "metadata": {},
   "source": [
    "Scalar w.r.t. vector:\n",
    "$$  \n",
    "y = c^Tx,  \\quad x \\in \\mathbb{R}^N \n",
    "$$"
   ]
  },
  {
   "cell_type": "markdown",
   "metadata": {},
   "source": [
    "$$\n",
    "\\frac{dy}{dx} = c\n",
    "$$ "
   ]
  },
  {
   "cell_type": "code",
   "execution_count": null,
   "metadata": {
    "collapsed": true
   },
   "outputs": [],
   "source": []
  },
  {
   "cell_type": "markdown",
   "metadata": {},
   "source": [
    "## ex. 2"
   ]
  },
  {
   "cell_type": "markdown",
   "metadata": {},
   "source": [
    "Vector w.r.t. vector:\n",
    "$$ y = \\sum_{j=1}^{N} cx^T \\quad c \\in \\mathbb{R}^{M} ,x \\in \\mathbb{R}^{N}, cx^T \\in \\mathbb{R}^{M \\times N} $$ "
   ]
  },
  {
   "cell_type": "markdown",
   "metadata": {},
   "source": [
    "**Answer:**\n",
    "Matrix of $M$ columns, each of which is $c$ vector\n",
    "$$\n",
    "    \\frac{dy}{dx} = \\mathrm{np.vstack([c] * N).T}\n",
    "$$\n",
    "\n",
    "**Solution**\n",
    "\n",
    "$$\n",
    "\\begin{aligned}\n",
    "    \\frac{\\partial y_i}{\\partial x_j} &= \n",
    "    \\frac{\\partial}{\\partial x_j} \\left((cx^\\top)_{ik} \\mathbb{1}_k \\right) = \\\\\n",
    "    &=  \\frac{\\partial}{\\partial x_j} \\left(c_i x_k \\mathbb{1}_k \\right) = \n",
    "    c_i \\delta_{jk} \\mathbb{1}_k = c_i \\mathbb{1}_j, \\qquad i = \\overline{1,M}, \\; j = \\overline{1,N}\n",
    "\\end{aligned}\n",
    "$$\n",
    "\n",
    "Used notation: $\\mathbb{1}$ - vector of ones"
   ]
  },
  {
   "cell_type": "code",
   "execution_count": 1,
   "metadata": {},
   "outputs": [],
   "source": [
    "import numpy as np"
   ]
  },
  {
   "cell_type": "code",
   "execution_count": 9,
   "metadata": {},
   "outputs": [
    {
     "data": {
      "text/plain": [
       "array([[0, 0, 0],\n",
       "       [1, 1, 1],\n",
       "       [2, 2, 2]])"
      ]
     },
     "execution_count": 9,
     "metadata": {},
     "output_type": "execute_result"
    }
   ],
   "source": [
    "a = np.arange(3)\n",
    "np.vstack([a] * 3).T"
   ]
  },
  {
   "cell_type": "markdown",
   "metadata": {},
   "source": [
    "## ex. 3"
   ]
  },
  {
   "cell_type": "markdown",
   "metadata": {},
   "source": [
    "Vector w.r.t. vector:\n",
    "$$  \n",
    "y = x x^T x , x \\in \\mathbb{R}^{N}\n",
    "$$\n",
    "\n",
    "**Answer:**  \n",
    "\n",
    "$$\n",
    "    \\frac{dy}{dx} = \\langle x,x \\rangle I + 2 xx^\\top\n",
    "$$\n",
    "\n",
    "_Notation_: $I$ - identity matrix, $\\langle \\bullet,\\bullet \\rangle$ - inner product  \n",
    "\n",
    "**Solution recipe:**\n",
    "\n",
    "$$\n",
    "    y = v(x)\\;u(x)\\\\\n",
    "    \\text{where }\\; v(x) = x; \n",
    "    \\quad u(x) = x^\\top x = \\langle x,x \\rangle\n",
    "$$\n",
    "\n",
    "Thus,\n",
    "\n",
    "$$\n",
    "    \\frac{dy}{dx} = \\frac{dv}{dx} u + v \\frac{du}{dx}\n",
    "$$\n",
    "\n",
    "From optimization classes we know (table formulae), that in the case of $x$ vector:\n",
    "\n",
    "$$\n",
    "    \\frac{dx}{dx} = I\\\\\n",
    "    \\frac{d \\langle x,x \\rangle}{dx} = 2 x^\\top\n",
    "$$"
   ]
  },
  {
   "cell_type": "code",
   "execution_count": null,
   "metadata": {
    "collapsed": true
   },
   "outputs": [],
   "source": []
  },
  {
   "cell_type": "markdown",
   "metadata": {},
   "source": [
    "## ex. 4"
   ]
  },
  {
   "cell_type": "markdown",
   "metadata": {},
   "source": [
    "Derivatives for the parameters of the Dense layer:\n",
    "\n",
    "***Given :***  $$Y = XW, Y \\in \\mathbb{R}^{N \\times OUT}, X \\in \\mathbb{R}^{N \\times IN}, W \\in \\mathbb{R}^{IN \\times OUT} $$ \n",
    "\n",
    "The derivative of the hypothetic loss function w.r.t. to $Y$ is known: $\\Delta Y  \\in \\mathbb{R}^{N \\times OUT}$\n",
    "\n",
    "***Task :*** Please, derive the gradients of the loss w.r.t the weight matrix $W$: $\\Delta W  \\in \\mathbb{R}^{IN \\times OUT}$. Use the chain rule. First, please, derive each element of the $\\Delta W$, then generalize to the matrix form.\n",
    " \n",
    "Useful link: http://cs231n.stanford.edu/vecDerivs.pdf\n"
   ]
  },
  {
   "cell_type": "markdown",
   "metadata": {},
   "source": [
    "$$\n",
    "    L = L(Y(X))\\\\\n",
    "    \\frac{dL}{dW} = \\frac{dL}{dY} \\frac{dY}{dW} \n",
    "    = \\Delta Y \\frac{dY}{dW}\\\\\n",
    "$$\n",
    "\n",
    "Let $w_{ij}$ be connection between $i$-th and $j$-th neurons of two consecutive dense layers (input-hidden or hidden-hidden)\n",
    "\n",
    "$$\n",
    "    Y_{kp} = \\sum_k^{\\mathrm{IN}} X_{kh} W_{hp}  \\qquad \\text{batch}\n",
    "$$\n",
    "\n",
    "$$\n",
    "    \\frac{dL}{W_{ij}} = \\sum_{k,p} \\frac{dL}{dY_{kp}}\\frac{dY_{kp}}{dW_{ij}} = \n",
    "    \\sum_{k,p} \\Delta Y_{kp}\\frac{dY_{kp}}{dW_{ij}} \\\\\n",
    "    \\frac{dY_{kp}}{dW_{ij}} = X_{ki}\\delta_{pj}\\\\\n",
    "    \\sum_{k}{\\Delta Y_{kj}}X_{ki}=\\left(X^T\\Delta Y\\right)_{ij}\n",
    "$$\n",
    "\n",
    "$$\n",
    "    \\Delta W = X^T\\Delta Y\n",
    "$$\n",
    "\n"
   ]
  },
  {
   "cell_type": "code",
   "execution_count": null,
   "metadata": {
    "collapsed": true
   },
   "outputs": [],
   "source": []
  }
 ],
 "metadata": {
  "kernelspec": {
   "display_name": "Python 3",
   "language": "python",
   "name": "python3"
  },
  "language_info": {
   "codemirror_mode": {
    "name": "ipython",
    "version": 3
   },
   "file_extension": ".py",
   "mimetype": "text/x-python",
   "name": "python",
   "nbconvert_exporter": "python",
   "pygments_lexer": "ipython3",
   "version": "3.7.3"
  }
 },
 "nbformat": 4,
 "nbformat_minor": 1
}
